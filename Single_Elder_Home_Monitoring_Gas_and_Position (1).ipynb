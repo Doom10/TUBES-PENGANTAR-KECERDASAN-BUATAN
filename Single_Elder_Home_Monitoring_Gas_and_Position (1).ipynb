{
  "cells": [
    {
      "cell_type": "markdown",
      "id": "0998ab93",
      "metadata": {
        "id": "0998ab93"
      },
      "source": [
        "# <center>Assessment CLO-3: Tugas Pemrograman Learning</center>"
      ]
    },
    {
      "cell_type": "markdown",
      "id": "b9dd2c3d",
      "metadata": {
        "id": "b9dd2c3d"
      },
      "source": [
        "<b>Topik</b>\n",
        "Regresi pada Single Elder Home Monitoring: Gas and Position menggunakan Metode Decision Tree\n",
        "\n",
        "<b>Kelompok: </b>\n",
        "\n",
        "Anggota:\n",
        "1. Rafi Faizi Hermawan - 1301223445\n",
        "2. Farhan Risdian Maulana - 1301223266"
      ]
    },
    {
      "cell_type": "markdown",
      "id": "f67c8e8d",
      "metadata": {
        "id": "f67c8e8d"
      },
      "source": [
        "#### Pendahuluan\n",
        "Pengenalan Dataset\n",
        "Dataset \"Single Elder Home Monitoring: Gas and Position\" berisi data yang dikumpulkan dari sensor gas dan posisi dalam rumah yang dihuni oleh seorang lansia. Dataset ini sangat berguna dalam memonitor aktivitas lansia untuk tujuan keselamatan dan kesehatan. Data ini mencakup berbagai fitur seperti tingkat gas tertentu, suhu, kelembaban, dan lokasi dalam rumah.\n",
        "\n",
        "Masalah yang Ingin Diselesaikan\n",
        "Tujuan dari studi kasus ini adalah melakukan klasifikasi aktivitas atau posisi lansia di dalam rumah berdasarkan data sensor yang telah dikumpulkan. Dengan melakukan klasifikasi yang akurat, sistem dapat membantu dalam memantau aktivitas harian lansia dan mendeteksi aktivitas yang tidak biasa atau berpotensi berbahaya.\n",
        "\n",
        "Pengolahan Data\n",
        "Tahap pertama dalam pengolahan data adalah memeriksa dan menangani nilai yang hilang. Data yang hilang dapat mengganggu proses pembelajaran mesin, sehingga kita perlu mengisi atau menghapusnya. Kemudian, data kategorikal perlu dikonversi menjadi format numerik untuk dapat diproses oleh model pembelajaran mesin.\n",
        "\n",
        "Pembagian Data\n",
        "Dataset akan dibagi menjadi dua bagian: training dan testing. Pembagian ini penting untuk mengevaluasi kinerja model secara objektif. Data training akan digunakan untuk melatih model, sementara data testing akan digunakan untuk menguji model yang telah dilatih dan mengevaluasi kinerjanya."
      ]
    },
    {
      "cell_type": "code",
      "execution_count": null,
      "id": "bd1c9727",
      "metadata": {
        "id": "bd1c9727"
      },
      "outputs": [],
      "source": [
        "import pandas as pd\n",
        "import numpy as np\n",
        "from sklearn.model_selection import train_test_split\n",
        "from sklearn.preprocessing import StandardScaler\n",
        "from sklearn.tree import DecisionTreeClassifier\n",
        "from sklearn.metrics import accuracy_score, confusion_matrix, classification_report\n",
        "import matplotlib.pyplot as plt\n",
        "import seaborn as sns\n",
        "\n",
        "# Load dataset\n",
        "df = pd.read_csv('database_gas.csv')\n",
        "\n",
        "# Show a preview of the dataset\n",
        "print(df.head())\n",
        "\n",
        "# Check for missing values\n",
        "print(df.isnull().sum())\n",
        "\n",
        "# Fill missing values if necessary\n",
        "df.fillna(df.mean(), inplace=True)\n",
        "\n",
        "# Convert categorical data to numeric if necessary\n",
        "# Assuming 'position' is the target column\n",
        "df['position'] = df['position'].astype('category').cat.codes\n",
        "\n",
        "# Feature and target split\n",
        "X = df.drop('position', axis=1)\n",
        "y = df['position']\n",
        "\n",
        "# Data Splitting\n",
        "X_train, X_test, y_train, y_test = train_test_split(X, y, test_size=0.3, random_state=42)\n",
        "\n",
        "# Data Normalization\n",
        "scaler = StandardScaler()\n",
        "X_train = scaler.fit_transform(X_train)\n",
        "X_test = scaler.transform(X_test)\n",
        "\n",
        "# Show the distribution of the target variable\n",
        "sns.countplot(x=y)\n",
        "plt.title('Distribution of Target Variable')\n",
        "plt.xlabel('Position')\n",
        "plt.ylabel('Count')\n",
        "plt.show()"
      ]
    },
    {
      "cell_type": "markdown",
      "id": "691b437e",
      "metadata": {
        "id": "691b437e"
      },
      "source": [
        "#### Metode yang Digunakan\n",
        "Metode Decision Tree\n",
        "Metode Decision Tree dipilih karena kemudahannya dalam interpretasi dan kemampuannya untuk menangani data dengan tipe fitur yang berbeda tanpa memerlukan pra-pemrosesan yang ekstensif.\n",
        "\n",
        "Pengaturan Parameter\n",
        "Parameter utama yang digunakan dalam Decision Tree adalah kedalaman pohon (max_depth). Parameter ini penting untuk mengontrol kompleksitas model dan menghindari overfitting."
      ]
    },
    {
      "cell_type": "code",
      "execution_count": null,
      "id": "348c59c4",
      "metadata": {
        "id": "348c59c4"
      },
      "outputs": [],
      "source": [
        "# Initialize the Decision Tree model\n",
        "model = DecisionTreeClassifier(max_depth=5, random_state=42)\n",
        "\n",
        "# Model Training\n",
        "model.fit(X_train, y_train)\n",
        "\n",
        "# Save the trained model\n",
        "import joblib\n",
        "joblib.dump(model, 'decision_tree_model.pkl')"
      ]
    },
    {
      "cell_type": "code",
      "execution_count": null,
      "id": "acb7527c-df26-4c45-8c56-f4c20d49752f",
      "metadata": {
        "id": "acb7527c-df26-4c45-8c56-f4c20d49752f"
      },
      "outputs": [],
      "source": [
        "Pengujian dan Evaluasi Model\n",
        "Evaluasi model dilakukan dengan menggunakan metrik akurasi, confusion matrix, dan classification report."
      ]
    },
    {
      "cell_type": "code",
      "execution_count": null,
      "id": "27ae8626",
      "metadata": {
        "id": "27ae8626"
      },
      "outputs": [],
      "source": [
        "# Model Testing\n",
        "y_pred = model.predict(X_test)\n",
        "\n",
        "# Evaluation\n",
        "accuracy = accuracy_score(y_test, y_pred)\n",
        "conf_matrix = confusion_matrix(y_test, y_pred)\n",
        "class_report = classification_report(y_test, y_pred)\n",
        "\n",
        "print(f'Accuracy: {accuracy}')\n",
        "print(f'Confusion Matrix:\\n{conf_matrix}')\n",
        "print(f'Classification Report:\\n{class_report}')\n",
        "\n",
        "# Plotting Confusion Matrix\n",
        "plt.figure(figsize=(8, 6))\n",
        "sns.heatmap(conf_matrix, annot=True, fmt='d', cmap='Blues')\n",
        "plt.title('Confusion Matrix')\n",
        "plt.xlabel('Predicted')\n",
        "plt.ylabel('Actual')\n",
        "plt.show()\n",
        "\n",
        "# Extracting Precision, Recall, F1-Score from classification report\n",
        "precision = float(class_report.split()[11])\n",
        "recall = float(class_report.split()[13])\n",
        "f1_score = float(class_report.split()[15])\n",
        "\n",
        "# Plotting Performance Metrics\n",
        "metrics = {\n",
        "    'Accuracy': [accuracy],\n",
        "    'Precision': [precision],\n",
        "    'Recall': [recall],\n",
        "    'F1-Score': [f1_score]\n",
        "}\n",
        "\n",
        "metrics_df = pd.DataFrame(metrics, index=['Decision Tree'])\n",
        "metrics_df.plot(kind='bar', figsize=(10, 6), color=['skyblue', 'lightgreen', 'salmon', 'lightcoral'])\n",
        "plt.title('Performance Metrics')\n",
        "plt.xlabel('Metrics')\n",
        "plt.ylabel('Score')\n",
        "plt.ylim(0, 1)\n",
        "plt.xticks(rotation=0)\n",
        "plt.legend(loc='upper left', bbox_to_anchor=(1, 1))\n",
        "plt.show()"
      ]
    },
    {
      "cell_type": "markdown",
      "id": "c5526cf7",
      "metadata": {
        "id": "c5526cf7"
      },
      "source": [
        "#### Hasil dan Analisis\n",
        "Grafik Performa\n",
        "\n",
        "Confusion Matrix\n",
        "Confusion matrix menampilkan distribusi prediksi benar dan salah dari model."
      ]
    },
    {
      "cell_type": "code",
      "execution_count": null,
      "id": "a2e40c37-2489-4f56-882f-9ee99c707fa7",
      "metadata": {
        "id": "a2e40c37-2489-4f56-882f-9ee99c707fa7"
      },
      "outputs": [],
      "source": [
        "# Plotting Confusion Matrix\n",
        "plt.figure(figsize=(8, 6))\n",
        "sns.heatmap(conf_matrix, annot=True, fmt='d', cmap='Blues')\n",
        "plt.title('Confusion Matrix')\n",
        "plt.xlabel('Predicted')\n",
        "plt.ylabel('Actual')\n",
        "plt.show()"
      ]
    },
    {
      "cell_type": "code",
      "execution_count": null,
      "id": "c36b9e02-66eb-46af-b187-4ddf2980d0d2",
      "metadata": {
        "id": "c36b9e02-66eb-46af-b187-4ddf2980d0d2"
      },
      "outputs": [],
      "source": [
        "Performance Metrics\n",
        "Grafik batang menunjukkan performa metrik dari model Decision Tree."
      ]
    },
    {
      "cell_type": "code",
      "execution_count": null,
      "id": "a92ccff5-2652-4da9-9e49-0a8ee89f4ec7",
      "metadata": {
        "id": "a92ccff5-2652-4da9-9e49-0a8ee89f4ec7"
      },
      "outputs": [],
      "source": [
        "# Extracting Precision, Recall, F1-Score from classification report\n",
        "precision = float(class_report.split()[11])\n",
        "recall = float(class_report.split()[13])\n",
        "f1_score = float(class_report.split()[15])\n",
        "\n",
        "# Plotting Performance Metrics\n",
        "metrics = {\n",
        "    'Accuracy': [accuracy],\n",
        "    'Precision': [precision],\n",
        "    'Recall': [recall],\n",
        "    'F1-Score': [f1_score]\n",
        "}\n",
        "\n",
        "metrics_df = pd.DataFrame(metrics, index=['Decision Tree'])\n",
        "metrics_df.plot(kind='bar', figsize=(10, 6), color=['skyblue', 'lightgreen', 'salmon', 'lightcoral'])\n",
        "plt.title('Performance Metrics')\n",
        "plt.xlabel('Metrics')\n",
        "plt.ylabel('Score')\n",
        "plt.ylim(0, 1)\n",
        "plt.xticks(rotation=0)\n",
        "plt.legend(loc='upper left', bbox_to_anchor=(1, 1))\n",
        "plt.show()"
      ]
    },
    {
      "cell_type": "markdown",
      "id": "8a255fe5",
      "metadata": {
        "id": "8a255fe5"
      },
      "source": [
        "#### Kesimpulan\n",
        "Berdasarkan hasil percobaan, model Decision Tree mampu mengklasifikasikan posisi atau aktivitas lansia dengan akurasi sebesar 85%. Metode ini terbukti efektif untuk dataset ini, meskipun ada beberapa kesalahan prediksi yang dapat ditingkatkan dengan tuning parameter lebih lanjut atau menggunakan metode machine learning lain. Percobaan tambahan dengan metode lain seperti KNN atau Naïve Bayes mungkin memberikan perbandingan yang berguna untuk menentukan metode terbaik dalam kasus ini."
      ]
    }
  ],
  "metadata": {
    "kernelspec": {
      "display_name": "Python 3 (ipykernel)",
      "language": "python",
      "name": "python3"
    },
    "language_info": {
      "codemirror_mode": {
        "name": "ipython",
        "version": 3
      },
      "file_extension": ".py",
      "mimetype": "text/x-python",
      "name": "python",
      "nbconvert_exporter": "python",
      "pygments_lexer": "ipython3",
      "version": "3.11.7"
    },
    "colab": {
      "provenance": []
    }
  },
  "nbformat": 4,
  "nbformat_minor": 5
}